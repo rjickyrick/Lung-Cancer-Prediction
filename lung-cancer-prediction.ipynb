{
 "cells": [
  {
   "cell_type": "code",
   "execution_count": 1,
   "id": "85b82f9d",
   "metadata": {
    "_cell_guid": "b1076dfc-b9ad-4769-8c92-a6c4dae69d19",
    "_uuid": "8f2839f25d086af736a60e9eeb907d3b93b6e0e5",
    "execution": {
     "iopub.execute_input": "2022-06-18T19:19:00.464150Z",
     "iopub.status.busy": "2022-06-18T19:19:00.463094Z",
     "iopub.status.idle": "2022-06-18T19:19:00.488776Z",
     "shell.execute_reply": "2022-06-18T19:19:00.487986Z"
    },
    "papermill": {
     "duration": 0.040815,
     "end_time": "2022-06-18T19:19:00.491280",
     "exception": false,
     "start_time": "2022-06-18T19:19:00.450465",
     "status": "completed"
    },
    "tags": []
   },
   "outputs": [
    {
     "name": "stdout",
     "output_type": "stream",
     "text": [
      "/kaggle/input/lung-cancer/survey lung cancer.csv\n"
     ]
    }
   ],
   "source": [
    "# This Python 3 environment comes with many helpful analytics libraries installed\n",
    "# It is defined by the kaggle/python Docker image: https://github.com/kaggle/docker-python\n",
    "# For example, here's several helpful packages to load\n",
    "\n",
    "import numpy as np # linear algebra\n",
    "import pandas as pd # data processing, CSV file I/O (e.g. pd.read_csv)\n",
    "\n",
    "# Input data files are available in the read-only \"../input/\" directory\n",
    "# For example, running this (by clicking run or pressing Shift+Enter) will list all files under the input directory\n",
    "\n",
    "import os\n",
    "for dirname, _, filenames in os.walk('/kaggle/input'):\n",
    "    for filename in filenames:\n",
    "        print(os.path.join(dirname, filename))\n",
    "\n",
    "# You can write up to 20GB to the current directory (/kaggle/working/) that gets preserved as output when you create a version using \"Save & Run All\" \n",
    "# You can also write temporary files to /kaggle/temp/, but they won't be saved outside of the current session"
   ]
  },
  {
   "cell_type": "code",
   "execution_count": 2,
   "id": "88209693",
   "metadata": {
    "execution": {
     "iopub.execute_input": "2022-06-18T19:19:00.508155Z",
     "iopub.status.busy": "2022-06-18T19:19:00.507510Z",
     "iopub.status.idle": "2022-06-18T19:19:00.524165Z",
     "shell.execute_reply": "2022-06-18T19:19:00.523213Z"
    },
    "papermill": {
     "duration": 0.027477,
     "end_time": "2022-06-18T19:19:00.526490",
     "exception": false,
     "start_time": "2022-06-18T19:19:00.499013",
     "status": "completed"
    },
    "tags": []
   },
   "outputs": [],
   "source": [
    "df=pd.read_csv('../input/lung-cancer/survey lung cancer.csv')"
   ]
  },
  {
   "cell_type": "code",
   "execution_count": 3,
   "id": "9660bbc9",
   "metadata": {
    "execution": {
     "iopub.execute_input": "2022-06-18T19:19:00.543639Z",
     "iopub.status.busy": "2022-06-18T19:19:00.542915Z",
     "iopub.status.idle": "2022-06-18T19:19:00.568631Z",
     "shell.execute_reply": "2022-06-18T19:19:00.567934Z"
    },
    "papermill": {
     "duration": 0.036595,
     "end_time": "2022-06-18T19:19:00.570743",
     "exception": false,
     "start_time": "2022-06-18T19:19:00.534148",
     "status": "completed"
    },
    "tags": []
   },
   "outputs": [
    {
     "data": {
      "text/html": [
       "<div>\n",
       "<style scoped>\n",
       "    .dataframe tbody tr th:only-of-type {\n",
       "        vertical-align: middle;\n",
       "    }\n",
       "\n",
       "    .dataframe tbody tr th {\n",
       "        vertical-align: top;\n",
       "    }\n",
       "\n",
       "    .dataframe thead th {\n",
       "        text-align: right;\n",
       "    }\n",
       "</style>\n",
       "<table border=\"1\" class=\"dataframe\">\n",
       "  <thead>\n",
       "    <tr style=\"text-align: right;\">\n",
       "      <th></th>\n",
       "      <th>GENDER</th>\n",
       "      <th>AGE</th>\n",
       "      <th>SMOKING</th>\n",
       "      <th>YELLOW_FINGERS</th>\n",
       "      <th>ANXIETY</th>\n",
       "      <th>PEER_PRESSURE</th>\n",
       "      <th>CHRONIC DISEASE</th>\n",
       "      <th>FATIGUE</th>\n",
       "      <th>ALLERGY</th>\n",
       "      <th>WHEEZING</th>\n",
       "      <th>ALCOHOL CONSUMING</th>\n",
       "      <th>COUGHING</th>\n",
       "      <th>SHORTNESS OF BREATH</th>\n",
       "      <th>SWALLOWING DIFFICULTY</th>\n",
       "      <th>CHEST PAIN</th>\n",
       "      <th>LUNG_CANCER</th>\n",
       "    </tr>\n",
       "  </thead>\n",
       "  <tbody>\n",
       "    <tr>\n",
       "      <th>0</th>\n",
       "      <td>M</td>\n",
       "      <td>69</td>\n",
       "      <td>1</td>\n",
       "      <td>2</td>\n",
       "      <td>2</td>\n",
       "      <td>1</td>\n",
       "      <td>1</td>\n",
       "      <td>2</td>\n",
       "      <td>1</td>\n",
       "      <td>2</td>\n",
       "      <td>2</td>\n",
       "      <td>2</td>\n",
       "      <td>2</td>\n",
       "      <td>2</td>\n",
       "      <td>2</td>\n",
       "      <td>YES</td>\n",
       "    </tr>\n",
       "    <tr>\n",
       "      <th>1</th>\n",
       "      <td>M</td>\n",
       "      <td>74</td>\n",
       "      <td>2</td>\n",
       "      <td>1</td>\n",
       "      <td>1</td>\n",
       "      <td>1</td>\n",
       "      <td>2</td>\n",
       "      <td>2</td>\n",
       "      <td>2</td>\n",
       "      <td>1</td>\n",
       "      <td>1</td>\n",
       "      <td>1</td>\n",
       "      <td>2</td>\n",
       "      <td>2</td>\n",
       "      <td>2</td>\n",
       "      <td>YES</td>\n",
       "    </tr>\n",
       "    <tr>\n",
       "      <th>2</th>\n",
       "      <td>F</td>\n",
       "      <td>59</td>\n",
       "      <td>1</td>\n",
       "      <td>1</td>\n",
       "      <td>1</td>\n",
       "      <td>2</td>\n",
       "      <td>1</td>\n",
       "      <td>2</td>\n",
       "      <td>1</td>\n",
       "      <td>2</td>\n",
       "      <td>1</td>\n",
       "      <td>2</td>\n",
       "      <td>2</td>\n",
       "      <td>1</td>\n",
       "      <td>2</td>\n",
       "      <td>NO</td>\n",
       "    </tr>\n",
       "    <tr>\n",
       "      <th>3</th>\n",
       "      <td>M</td>\n",
       "      <td>63</td>\n",
       "      <td>2</td>\n",
       "      <td>2</td>\n",
       "      <td>2</td>\n",
       "      <td>1</td>\n",
       "      <td>1</td>\n",
       "      <td>1</td>\n",
       "      <td>1</td>\n",
       "      <td>1</td>\n",
       "      <td>2</td>\n",
       "      <td>1</td>\n",
       "      <td>1</td>\n",
       "      <td>2</td>\n",
       "      <td>2</td>\n",
       "      <td>NO</td>\n",
       "    </tr>\n",
       "    <tr>\n",
       "      <th>4</th>\n",
       "      <td>F</td>\n",
       "      <td>63</td>\n",
       "      <td>1</td>\n",
       "      <td>2</td>\n",
       "      <td>1</td>\n",
       "      <td>1</td>\n",
       "      <td>1</td>\n",
       "      <td>1</td>\n",
       "      <td>1</td>\n",
       "      <td>2</td>\n",
       "      <td>1</td>\n",
       "      <td>2</td>\n",
       "      <td>2</td>\n",
       "      <td>1</td>\n",
       "      <td>1</td>\n",
       "      <td>NO</td>\n",
       "    </tr>\n",
       "  </tbody>\n",
       "</table>\n",
       "</div>"
      ],
      "text/plain": [
       "  GENDER  AGE  SMOKING  YELLOW_FINGERS  ANXIETY  PEER_PRESSURE  \\\n",
       "0      M   69        1               2        2              1   \n",
       "1      M   74        2               1        1              1   \n",
       "2      F   59        1               1        1              2   \n",
       "3      M   63        2               2        2              1   \n",
       "4      F   63        1               2        1              1   \n",
       "\n",
       "   CHRONIC DISEASE  FATIGUE   ALLERGY   WHEEZING  ALCOHOL CONSUMING  COUGHING  \\\n",
       "0                1         2         1         2                  2         2   \n",
       "1                2         2         2         1                  1         1   \n",
       "2                1         2         1         2                  1         2   \n",
       "3                1         1         1         1                  2         1   \n",
       "4                1         1         1         2                  1         2   \n",
       "\n",
       "   SHORTNESS OF BREATH  SWALLOWING DIFFICULTY  CHEST PAIN LUNG_CANCER  \n",
       "0                    2                      2           2         YES  \n",
       "1                    2                      2           2         YES  \n",
       "2                    2                      1           2          NO  \n",
       "3                    1                      2           2          NO  \n",
       "4                    2                      1           1          NO  "
      ]
     },
     "execution_count": 3,
     "metadata": {},
     "output_type": "execute_result"
    }
   ],
   "source": [
    "df.head()"
   ]
  },
  {
   "cell_type": "markdown",
   "id": "61c61fe6",
   "metadata": {
    "papermill": {
     "duration": 0.007768,
     "end_time": "2022-06-18T19:19:00.589924",
     "exception": false,
     "start_time": "2022-06-18T19:19:00.582156",
     "status": "completed"
    },
    "tags": []
   },
   "source": [
    "# Preprocessing the Data"
   ]
  },
  {
   "cell_type": "code",
   "execution_count": 4,
   "id": "6d7de415",
   "metadata": {
    "execution": {
     "iopub.execute_input": "2022-06-18T19:19:00.608439Z",
     "iopub.status.busy": "2022-06-18T19:19:00.607759Z",
     "iopub.status.idle": "2022-06-18T19:19:01.717441Z",
     "shell.execute_reply": "2022-06-18T19:19:01.716363Z"
    },
    "papermill": {
     "duration": 1.121872,
     "end_time": "2022-06-18T19:19:01.720096",
     "exception": false,
     "start_time": "2022-06-18T19:19:00.598224",
     "status": "completed"
    },
    "tags": []
   },
   "outputs": [],
   "source": [
    "from sklearn.preprocessing import LabelEncoder"
   ]
  },
  {
   "cell_type": "code",
   "execution_count": 5,
   "id": "97ffa748",
   "metadata": {
    "execution": {
     "iopub.execute_input": "2022-06-18T19:19:01.737526Z",
     "iopub.status.busy": "2022-06-18T19:19:01.737086Z",
     "iopub.status.idle": "2022-06-18T19:19:01.745304Z",
     "shell.execute_reply": "2022-06-18T19:19:01.744198Z"
    },
    "papermill": {
     "duration": 0.019682,
     "end_time": "2022-06-18T19:19:01.747683",
     "exception": false,
     "start_time": "2022-06-18T19:19:01.728001",
     "status": "completed"
    },
    "tags": []
   },
   "outputs": [],
   "source": [
    "le = LabelEncoder()\n",
    "encoded_gender = le.fit_transform(df['GENDER']) "
   ]
  },
  {
   "cell_type": "code",
   "execution_count": 6,
   "id": "3544a1af",
   "metadata": {
    "execution": {
     "iopub.execute_input": "2022-06-18T19:19:01.764739Z",
     "iopub.status.busy": "2022-06-18T19:19:01.764323Z",
     "iopub.status.idle": "2022-06-18T19:19:01.769500Z",
     "shell.execute_reply": "2022-06-18T19:19:01.768475Z"
    },
    "papermill": {
     "duration": 0.016186,
     "end_time": "2022-06-18T19:19:01.771677",
     "exception": false,
     "start_time": "2022-06-18T19:19:01.755491",
     "status": "completed"
    },
    "tags": []
   },
   "outputs": [],
   "source": [
    "encoded_label = le.fit_transform(df['LUNG_CANCER']) "
   ]
  },
  {
   "cell_type": "code",
   "execution_count": 7,
   "id": "2b23c1dd",
   "metadata": {
    "execution": {
     "iopub.execute_input": "2022-06-18T19:19:01.789591Z",
     "iopub.status.busy": "2022-06-18T19:19:01.788463Z",
     "iopub.status.idle": "2022-06-18T19:19:01.808169Z",
     "shell.execute_reply": "2022-06-18T19:19:01.807387Z"
    },
    "papermill": {
     "duration": 0.030806,
     "end_time": "2022-06-18T19:19:01.810168",
     "exception": false,
     "start_time": "2022-06-18T19:19:01.779362",
     "status": "completed"
    },
    "tags": []
   },
   "outputs": [
    {
     "data": {
      "text/html": [
       "<div>\n",
       "<style scoped>\n",
       "    .dataframe tbody tr th:only-of-type {\n",
       "        vertical-align: middle;\n",
       "    }\n",
       "\n",
       "    .dataframe tbody tr th {\n",
       "        vertical-align: top;\n",
       "    }\n",
       "\n",
       "    .dataframe thead th {\n",
       "        text-align: right;\n",
       "    }\n",
       "</style>\n",
       "<table border=\"1\" class=\"dataframe\">\n",
       "  <thead>\n",
       "    <tr style=\"text-align: right;\">\n",
       "      <th></th>\n",
       "      <th>SMOKING</th>\n",
       "      <th>YELLOW_FINGERS</th>\n",
       "      <th>ANXIETY</th>\n",
       "      <th>PEER_PRESSURE</th>\n",
       "      <th>CHRONIC DISEASE</th>\n",
       "      <th>FATIGUE</th>\n",
       "      <th>ALLERGY</th>\n",
       "      <th>WHEEZING</th>\n",
       "      <th>ALCOHOL CONSUMING</th>\n",
       "      <th>COUGHING</th>\n",
       "      <th>SHORTNESS OF BREATH</th>\n",
       "      <th>SWALLOWING DIFFICULTY</th>\n",
       "      <th>CHEST PAIN</th>\n",
       "    </tr>\n",
       "  </thead>\n",
       "  <tbody>\n",
       "    <tr>\n",
       "      <th>0</th>\n",
       "      <td>1</td>\n",
       "      <td>2</td>\n",
       "      <td>2</td>\n",
       "      <td>1</td>\n",
       "      <td>1</td>\n",
       "      <td>2</td>\n",
       "      <td>1</td>\n",
       "      <td>2</td>\n",
       "      <td>2</td>\n",
       "      <td>2</td>\n",
       "      <td>2</td>\n",
       "      <td>2</td>\n",
       "      <td>2</td>\n",
       "    </tr>\n",
       "    <tr>\n",
       "      <th>1</th>\n",
       "      <td>2</td>\n",
       "      <td>1</td>\n",
       "      <td>1</td>\n",
       "      <td>1</td>\n",
       "      <td>2</td>\n",
       "      <td>2</td>\n",
       "      <td>2</td>\n",
       "      <td>1</td>\n",
       "      <td>1</td>\n",
       "      <td>1</td>\n",
       "      <td>2</td>\n",
       "      <td>2</td>\n",
       "      <td>2</td>\n",
       "    </tr>\n",
       "    <tr>\n",
       "      <th>2</th>\n",
       "      <td>1</td>\n",
       "      <td>1</td>\n",
       "      <td>1</td>\n",
       "      <td>2</td>\n",
       "      <td>1</td>\n",
       "      <td>2</td>\n",
       "      <td>1</td>\n",
       "      <td>2</td>\n",
       "      <td>1</td>\n",
       "      <td>2</td>\n",
       "      <td>2</td>\n",
       "      <td>1</td>\n",
       "      <td>2</td>\n",
       "    </tr>\n",
       "    <tr>\n",
       "      <th>3</th>\n",
       "      <td>2</td>\n",
       "      <td>2</td>\n",
       "      <td>2</td>\n",
       "      <td>1</td>\n",
       "      <td>1</td>\n",
       "      <td>1</td>\n",
       "      <td>1</td>\n",
       "      <td>1</td>\n",
       "      <td>2</td>\n",
       "      <td>1</td>\n",
       "      <td>1</td>\n",
       "      <td>2</td>\n",
       "      <td>2</td>\n",
       "    </tr>\n",
       "    <tr>\n",
       "      <th>4</th>\n",
       "      <td>1</td>\n",
       "      <td>2</td>\n",
       "      <td>1</td>\n",
       "      <td>1</td>\n",
       "      <td>1</td>\n",
       "      <td>1</td>\n",
       "      <td>1</td>\n",
       "      <td>2</td>\n",
       "      <td>1</td>\n",
       "      <td>2</td>\n",
       "      <td>2</td>\n",
       "      <td>1</td>\n",
       "      <td>1</td>\n",
       "    </tr>\n",
       "    <tr>\n",
       "      <th>...</th>\n",
       "      <td>...</td>\n",
       "      <td>...</td>\n",
       "      <td>...</td>\n",
       "      <td>...</td>\n",
       "      <td>...</td>\n",
       "      <td>...</td>\n",
       "      <td>...</td>\n",
       "      <td>...</td>\n",
       "      <td>...</td>\n",
       "      <td>...</td>\n",
       "      <td>...</td>\n",
       "      <td>...</td>\n",
       "      <td>...</td>\n",
       "    </tr>\n",
       "    <tr>\n",
       "      <th>304</th>\n",
       "      <td>1</td>\n",
       "      <td>1</td>\n",
       "      <td>1</td>\n",
       "      <td>2</td>\n",
       "      <td>2</td>\n",
       "      <td>2</td>\n",
       "      <td>1</td>\n",
       "      <td>1</td>\n",
       "      <td>2</td>\n",
       "      <td>2</td>\n",
       "      <td>2</td>\n",
       "      <td>2</td>\n",
       "      <td>1</td>\n",
       "    </tr>\n",
       "    <tr>\n",
       "      <th>305</th>\n",
       "      <td>2</td>\n",
       "      <td>1</td>\n",
       "      <td>1</td>\n",
       "      <td>1</td>\n",
       "      <td>1</td>\n",
       "      <td>2</td>\n",
       "      <td>2</td>\n",
       "      <td>2</td>\n",
       "      <td>2</td>\n",
       "      <td>2</td>\n",
       "      <td>2</td>\n",
       "      <td>1</td>\n",
       "      <td>2</td>\n",
       "    </tr>\n",
       "    <tr>\n",
       "      <th>306</th>\n",
       "      <td>2</td>\n",
       "      <td>1</td>\n",
       "      <td>1</td>\n",
       "      <td>1</td>\n",
       "      <td>1</td>\n",
       "      <td>1</td>\n",
       "      <td>2</td>\n",
       "      <td>2</td>\n",
       "      <td>2</td>\n",
       "      <td>2</td>\n",
       "      <td>1</td>\n",
       "      <td>1</td>\n",
       "      <td>2</td>\n",
       "    </tr>\n",
       "    <tr>\n",
       "      <th>307</th>\n",
       "      <td>2</td>\n",
       "      <td>1</td>\n",
       "      <td>2</td>\n",
       "      <td>1</td>\n",
       "      <td>1</td>\n",
       "      <td>2</td>\n",
       "      <td>2</td>\n",
       "      <td>1</td>\n",
       "      <td>2</td>\n",
       "      <td>2</td>\n",
       "      <td>2</td>\n",
       "      <td>1</td>\n",
       "      <td>2</td>\n",
       "    </tr>\n",
       "    <tr>\n",
       "      <th>308</th>\n",
       "      <td>1</td>\n",
       "      <td>1</td>\n",
       "      <td>1</td>\n",
       "      <td>2</td>\n",
       "      <td>1</td>\n",
       "      <td>2</td>\n",
       "      <td>2</td>\n",
       "      <td>2</td>\n",
       "      <td>2</td>\n",
       "      <td>1</td>\n",
       "      <td>1</td>\n",
       "      <td>2</td>\n",
       "      <td>1</td>\n",
       "    </tr>\n",
       "  </tbody>\n",
       "</table>\n",
       "<p>309 rows × 13 columns</p>\n",
       "</div>"
      ],
      "text/plain": [
       "     SMOKING  YELLOW_FINGERS  ANXIETY  PEER_PRESSURE  CHRONIC DISEASE  \\\n",
       "0          1               2        2              1                1   \n",
       "1          2               1        1              1                2   \n",
       "2          1               1        1              2                1   \n",
       "3          2               2        2              1                1   \n",
       "4          1               2        1              1                1   \n",
       "..       ...             ...      ...            ...              ...   \n",
       "304        1               1        1              2                2   \n",
       "305        2               1        1              1                1   \n",
       "306        2               1        1              1                1   \n",
       "307        2               1        2              1                1   \n",
       "308        1               1        1              2                1   \n",
       "\n",
       "     FATIGUE   ALLERGY   WHEEZING  ALCOHOL CONSUMING  COUGHING  \\\n",
       "0           2         1         2                  2         2   \n",
       "1           2         2         1                  1         1   \n",
       "2           2         1         2                  1         2   \n",
       "3           1         1         1                  2         1   \n",
       "4           1         1         2                  1         2   \n",
       "..        ...       ...       ...                ...       ...   \n",
       "304         2         1         1                  2         2   \n",
       "305         2         2         2                  2         2   \n",
       "306         1         2         2                  2         2   \n",
       "307         2         2         1                  2         2   \n",
       "308         2         2         2                  2         1   \n",
       "\n",
       "     SHORTNESS OF BREATH  SWALLOWING DIFFICULTY  CHEST PAIN  \n",
       "0                      2                      2           2  \n",
       "1                      2                      2           2  \n",
       "2                      2                      1           2  \n",
       "3                      1                      2           2  \n",
       "4                      2                      1           1  \n",
       "..                   ...                    ...         ...  \n",
       "304                    2                      2           1  \n",
       "305                    2                      1           2  \n",
       "306                    1                      1           2  \n",
       "307                    2                      1           2  \n",
       "308                    1                      2           1  \n",
       "\n",
       "[309 rows x 13 columns]"
      ]
     },
     "execution_count": 7,
     "metadata": {},
     "output_type": "execute_result"
    }
   ],
   "source": [
    "df.iloc[:,2:-1]"
   ]
  },
  {
   "cell_type": "code",
   "execution_count": 8,
   "id": "9903ca51",
   "metadata": {
    "execution": {
     "iopub.execute_input": "2022-06-18T19:19:01.828553Z",
     "iopub.status.busy": "2022-06-18T19:19:01.827931Z",
     "iopub.status.idle": "2022-06-18T19:19:01.839550Z",
     "shell.execute_reply": "2022-06-18T19:19:01.838733Z"
    },
    "papermill": {
     "duration": 0.023451,
     "end_time": "2022-06-18T19:19:01.841798",
     "exception": false,
     "start_time": "2022-06-18T19:19:01.818347",
     "status": "completed"
    },
    "tags": []
   },
   "outputs": [],
   "source": [
    "df.iloc[:,2:-1]=df.iloc[:,2:-1].apply(le.fit_transform)"
   ]
  },
  {
   "cell_type": "code",
   "execution_count": 9,
   "id": "4b463093",
   "metadata": {
    "execution": {
     "iopub.execute_input": "2022-06-18T19:19:01.860171Z",
     "iopub.status.busy": "2022-06-18T19:19:01.859459Z",
     "iopub.status.idle": "2022-06-18T19:19:01.874195Z",
     "shell.execute_reply": "2022-06-18T19:19:01.873381Z"
    },
    "papermill": {
     "duration": 0.026463,
     "end_time": "2022-06-18T19:19:01.876534",
     "exception": false,
     "start_time": "2022-06-18T19:19:01.850071",
     "status": "completed"
    },
    "tags": []
   },
   "outputs": [
    {
     "data": {
      "text/html": [
       "<div>\n",
       "<style scoped>\n",
       "    .dataframe tbody tr th:only-of-type {\n",
       "        vertical-align: middle;\n",
       "    }\n",
       "\n",
       "    .dataframe tbody tr th {\n",
       "        vertical-align: top;\n",
       "    }\n",
       "\n",
       "    .dataframe thead th {\n",
       "        text-align: right;\n",
       "    }\n",
       "</style>\n",
       "<table border=\"1\" class=\"dataframe\">\n",
       "  <thead>\n",
       "    <tr style=\"text-align: right;\">\n",
       "      <th></th>\n",
       "      <th>GENDER</th>\n",
       "      <th>AGE</th>\n",
       "      <th>SMOKING</th>\n",
       "      <th>YELLOW_FINGERS</th>\n",
       "      <th>ANXIETY</th>\n",
       "      <th>PEER_PRESSURE</th>\n",
       "      <th>CHRONIC DISEASE</th>\n",
       "      <th>FATIGUE</th>\n",
       "      <th>ALLERGY</th>\n",
       "      <th>WHEEZING</th>\n",
       "      <th>ALCOHOL CONSUMING</th>\n",
       "      <th>COUGHING</th>\n",
       "      <th>SHORTNESS OF BREATH</th>\n",
       "      <th>SWALLOWING DIFFICULTY</th>\n",
       "      <th>CHEST PAIN</th>\n",
       "      <th>LUNG_CANCER</th>\n",
       "    </tr>\n",
       "  </thead>\n",
       "  <tbody>\n",
       "    <tr>\n",
       "      <th>0</th>\n",
       "      <td>M</td>\n",
       "      <td>69</td>\n",
       "      <td>0</td>\n",
       "      <td>1</td>\n",
       "      <td>1</td>\n",
       "      <td>0</td>\n",
       "      <td>0</td>\n",
       "      <td>1</td>\n",
       "      <td>0</td>\n",
       "      <td>1</td>\n",
       "      <td>1</td>\n",
       "      <td>1</td>\n",
       "      <td>1</td>\n",
       "      <td>1</td>\n",
       "      <td>1</td>\n",
       "      <td>YES</td>\n",
       "    </tr>\n",
       "    <tr>\n",
       "      <th>1</th>\n",
       "      <td>M</td>\n",
       "      <td>74</td>\n",
       "      <td>1</td>\n",
       "      <td>0</td>\n",
       "      <td>0</td>\n",
       "      <td>0</td>\n",
       "      <td>1</td>\n",
       "      <td>1</td>\n",
       "      <td>1</td>\n",
       "      <td>0</td>\n",
       "      <td>0</td>\n",
       "      <td>0</td>\n",
       "      <td>1</td>\n",
       "      <td>1</td>\n",
       "      <td>1</td>\n",
       "      <td>YES</td>\n",
       "    </tr>\n",
       "    <tr>\n",
       "      <th>2</th>\n",
       "      <td>F</td>\n",
       "      <td>59</td>\n",
       "      <td>0</td>\n",
       "      <td>0</td>\n",
       "      <td>0</td>\n",
       "      <td>1</td>\n",
       "      <td>0</td>\n",
       "      <td>1</td>\n",
       "      <td>0</td>\n",
       "      <td>1</td>\n",
       "      <td>0</td>\n",
       "      <td>1</td>\n",
       "      <td>1</td>\n",
       "      <td>0</td>\n",
       "      <td>1</td>\n",
       "      <td>NO</td>\n",
       "    </tr>\n",
       "    <tr>\n",
       "      <th>3</th>\n",
       "      <td>M</td>\n",
       "      <td>63</td>\n",
       "      <td>1</td>\n",
       "      <td>1</td>\n",
       "      <td>1</td>\n",
       "      <td>0</td>\n",
       "      <td>0</td>\n",
       "      <td>0</td>\n",
       "      <td>0</td>\n",
       "      <td>0</td>\n",
       "      <td>1</td>\n",
       "      <td>0</td>\n",
       "      <td>0</td>\n",
       "      <td>1</td>\n",
       "      <td>1</td>\n",
       "      <td>NO</td>\n",
       "    </tr>\n",
       "    <tr>\n",
       "      <th>4</th>\n",
       "      <td>F</td>\n",
       "      <td>63</td>\n",
       "      <td>0</td>\n",
       "      <td>1</td>\n",
       "      <td>0</td>\n",
       "      <td>0</td>\n",
       "      <td>0</td>\n",
       "      <td>0</td>\n",
       "      <td>0</td>\n",
       "      <td>1</td>\n",
       "      <td>0</td>\n",
       "      <td>1</td>\n",
       "      <td>1</td>\n",
       "      <td>0</td>\n",
       "      <td>0</td>\n",
       "      <td>NO</td>\n",
       "    </tr>\n",
       "  </tbody>\n",
       "</table>\n",
       "</div>"
      ],
      "text/plain": [
       "  GENDER  AGE  SMOKING  YELLOW_FINGERS  ANXIETY  PEER_PRESSURE  \\\n",
       "0      M   69        0               1        1              0   \n",
       "1      M   74        1               0        0              0   \n",
       "2      F   59        0               0        0              1   \n",
       "3      M   63        1               1        1              0   \n",
       "4      F   63        0               1        0              0   \n",
       "\n",
       "   CHRONIC DISEASE  FATIGUE   ALLERGY   WHEEZING  ALCOHOL CONSUMING  COUGHING  \\\n",
       "0                0         1         0         1                  1         1   \n",
       "1                1         1         1         0                  0         0   \n",
       "2                0         1         0         1                  0         1   \n",
       "3                0         0         0         0                  1         0   \n",
       "4                0         0         0         1                  0         1   \n",
       "\n",
       "   SHORTNESS OF BREATH  SWALLOWING DIFFICULTY  CHEST PAIN LUNG_CANCER  \n",
       "0                    1                      1           1         YES  \n",
       "1                    1                      1           1         YES  \n",
       "2                    1                      0           1          NO  \n",
       "3                    0                      1           1          NO  \n",
       "4                    1                      0           0          NO  "
      ]
     },
     "execution_count": 9,
     "metadata": {},
     "output_type": "execute_result"
    }
   ],
   "source": [
    "df.head()"
   ]
  },
  {
   "cell_type": "code",
   "execution_count": 10,
   "id": "116a9afd",
   "metadata": {
    "execution": {
     "iopub.execute_input": "2022-06-18T19:19:01.895192Z",
     "iopub.status.busy": "2022-06-18T19:19:01.894789Z",
     "iopub.status.idle": "2022-06-18T19:19:01.900727Z",
     "shell.execute_reply": "2022-06-18T19:19:01.899743Z"
    },
    "papermill": {
     "duration": 0.017431,
     "end_time": "2022-06-18T19:19:01.902830",
     "exception": false,
     "start_time": "2022-06-18T19:19:01.885399",
     "status": "completed"
    },
    "tags": []
   },
   "outputs": [],
   "source": [
    "df['GENDER']=encoded_gender\n",
    "df['LUNG_CANCER']=encoded_label"
   ]
  },
  {
   "cell_type": "code",
   "execution_count": 11,
   "id": "81e695ee",
   "metadata": {
    "execution": {
     "iopub.execute_input": "2022-06-18T19:19:01.921774Z",
     "iopub.status.busy": "2022-06-18T19:19:01.920789Z",
     "iopub.status.idle": "2022-06-18T19:19:01.935548Z",
     "shell.execute_reply": "2022-06-18T19:19:01.934441Z"
    },
    "papermill": {
     "duration": 0.026511,
     "end_time": "2022-06-18T19:19:01.937788",
     "exception": false,
     "start_time": "2022-06-18T19:19:01.911277",
     "status": "completed"
    },
    "tags": []
   },
   "outputs": [
    {
     "data": {
      "text/html": [
       "<div>\n",
       "<style scoped>\n",
       "    .dataframe tbody tr th:only-of-type {\n",
       "        vertical-align: middle;\n",
       "    }\n",
       "\n",
       "    .dataframe tbody tr th {\n",
       "        vertical-align: top;\n",
       "    }\n",
       "\n",
       "    .dataframe thead th {\n",
       "        text-align: right;\n",
       "    }\n",
       "</style>\n",
       "<table border=\"1\" class=\"dataframe\">\n",
       "  <thead>\n",
       "    <tr style=\"text-align: right;\">\n",
       "      <th></th>\n",
       "      <th>GENDER</th>\n",
       "      <th>AGE</th>\n",
       "      <th>SMOKING</th>\n",
       "      <th>YELLOW_FINGERS</th>\n",
       "      <th>ANXIETY</th>\n",
       "      <th>PEER_PRESSURE</th>\n",
       "      <th>CHRONIC DISEASE</th>\n",
       "      <th>FATIGUE</th>\n",
       "      <th>ALLERGY</th>\n",
       "      <th>WHEEZING</th>\n",
       "      <th>ALCOHOL CONSUMING</th>\n",
       "      <th>COUGHING</th>\n",
       "      <th>SHORTNESS OF BREATH</th>\n",
       "      <th>SWALLOWING DIFFICULTY</th>\n",
       "      <th>CHEST PAIN</th>\n",
       "      <th>LUNG_CANCER</th>\n",
       "    </tr>\n",
       "  </thead>\n",
       "  <tbody>\n",
       "    <tr>\n",
       "      <th>0</th>\n",
       "      <td>1</td>\n",
       "      <td>69</td>\n",
       "      <td>0</td>\n",
       "      <td>1</td>\n",
       "      <td>1</td>\n",
       "      <td>0</td>\n",
       "      <td>0</td>\n",
       "      <td>1</td>\n",
       "      <td>0</td>\n",
       "      <td>1</td>\n",
       "      <td>1</td>\n",
       "      <td>1</td>\n",
       "      <td>1</td>\n",
       "      <td>1</td>\n",
       "      <td>1</td>\n",
       "      <td>1</td>\n",
       "    </tr>\n",
       "    <tr>\n",
       "      <th>1</th>\n",
       "      <td>1</td>\n",
       "      <td>74</td>\n",
       "      <td>1</td>\n",
       "      <td>0</td>\n",
       "      <td>0</td>\n",
       "      <td>0</td>\n",
       "      <td>1</td>\n",
       "      <td>1</td>\n",
       "      <td>1</td>\n",
       "      <td>0</td>\n",
       "      <td>0</td>\n",
       "      <td>0</td>\n",
       "      <td>1</td>\n",
       "      <td>1</td>\n",
       "      <td>1</td>\n",
       "      <td>1</td>\n",
       "    </tr>\n",
       "    <tr>\n",
       "      <th>2</th>\n",
       "      <td>0</td>\n",
       "      <td>59</td>\n",
       "      <td>0</td>\n",
       "      <td>0</td>\n",
       "      <td>0</td>\n",
       "      <td>1</td>\n",
       "      <td>0</td>\n",
       "      <td>1</td>\n",
       "      <td>0</td>\n",
       "      <td>1</td>\n",
       "      <td>0</td>\n",
       "      <td>1</td>\n",
       "      <td>1</td>\n",
       "      <td>0</td>\n",
       "      <td>1</td>\n",
       "      <td>0</td>\n",
       "    </tr>\n",
       "    <tr>\n",
       "      <th>3</th>\n",
       "      <td>1</td>\n",
       "      <td>63</td>\n",
       "      <td>1</td>\n",
       "      <td>1</td>\n",
       "      <td>1</td>\n",
       "      <td>0</td>\n",
       "      <td>0</td>\n",
       "      <td>0</td>\n",
       "      <td>0</td>\n",
       "      <td>0</td>\n",
       "      <td>1</td>\n",
       "      <td>0</td>\n",
       "      <td>0</td>\n",
       "      <td>1</td>\n",
       "      <td>1</td>\n",
       "      <td>0</td>\n",
       "    </tr>\n",
       "    <tr>\n",
       "      <th>4</th>\n",
       "      <td>0</td>\n",
       "      <td>63</td>\n",
       "      <td>0</td>\n",
       "      <td>1</td>\n",
       "      <td>0</td>\n",
       "      <td>0</td>\n",
       "      <td>0</td>\n",
       "      <td>0</td>\n",
       "      <td>0</td>\n",
       "      <td>1</td>\n",
       "      <td>0</td>\n",
       "      <td>1</td>\n",
       "      <td>1</td>\n",
       "      <td>0</td>\n",
       "      <td>0</td>\n",
       "      <td>0</td>\n",
       "    </tr>\n",
       "  </tbody>\n",
       "</table>\n",
       "</div>"
      ],
      "text/plain": [
       "   GENDER  AGE  SMOKING  YELLOW_FINGERS  ANXIETY  PEER_PRESSURE  \\\n",
       "0       1   69        0               1        1              0   \n",
       "1       1   74        1               0        0              0   \n",
       "2       0   59        0               0        0              1   \n",
       "3       1   63        1               1        1              0   \n",
       "4       0   63        0               1        0              0   \n",
       "\n",
       "   CHRONIC DISEASE  FATIGUE   ALLERGY   WHEEZING  ALCOHOL CONSUMING  COUGHING  \\\n",
       "0                0         1         0         1                  1         1   \n",
       "1                1         1         1         0                  0         0   \n",
       "2                0         1         0         1                  0         1   \n",
       "3                0         0         0         0                  1         0   \n",
       "4                0         0         0         1                  0         1   \n",
       "\n",
       "   SHORTNESS OF BREATH  SWALLOWING DIFFICULTY  CHEST PAIN  LUNG_CANCER  \n",
       "0                    1                      1           1            1  \n",
       "1                    1                      1           1            1  \n",
       "2                    1                      0           1            0  \n",
       "3                    0                      1           1            0  \n",
       "4                    1                      0           0            0  "
      ]
     },
     "execution_count": 11,
     "metadata": {},
     "output_type": "execute_result"
    }
   ],
   "source": [
    "df.head()"
   ]
  },
  {
   "cell_type": "markdown",
   "id": "a9d2040e",
   "metadata": {
    "papermill": {
     "duration": 0.008523,
     "end_time": "2022-06-18T19:19:01.955769",
     "exception": false,
     "start_time": "2022-06-18T19:19:01.947246",
     "status": "completed"
    },
    "tags": []
   },
   "source": [
    "**Normalizing AGE Feature**"
   ]
  },
  {
   "cell_type": "code",
   "execution_count": 12,
   "id": "6f60d863",
   "metadata": {
    "execution": {
     "iopub.execute_input": "2022-06-18T19:19:01.975045Z",
     "iopub.status.busy": "2022-06-18T19:19:01.974619Z",
     "iopub.status.idle": "2022-06-18T19:19:01.981909Z",
     "shell.execute_reply": "2022-06-18T19:19:01.980934Z"
    },
    "papermill": {
     "duration": 0.01963,
     "end_time": "2022-06-18T19:19:01.984141",
     "exception": false,
     "start_time": "2022-06-18T19:19:01.964511",
     "status": "completed"
    },
    "tags": []
   },
   "outputs": [],
   "source": [
    "from sklearn import preprocessing\n",
    "\n",
    "min_max_scaler = preprocessing.MinMaxScaler()\n",
    "df['AGE'] = min_max_scaler.fit_transform(np.array(df['AGE']).reshape(-1,1))"
   ]
  },
  {
   "cell_type": "code",
   "execution_count": 13,
   "id": "09c62fa5",
   "metadata": {
    "execution": {
     "iopub.execute_input": "2022-06-18T19:19:02.003547Z",
     "iopub.status.busy": "2022-06-18T19:19:02.003128Z",
     "iopub.status.idle": "2022-06-18T19:19:02.018923Z",
     "shell.execute_reply": "2022-06-18T19:19:02.018160Z"
    },
    "papermill": {
     "duration": 0.027748,
     "end_time": "2022-06-18T19:19:02.020729",
     "exception": false,
     "start_time": "2022-06-18T19:19:01.992981",
     "status": "completed"
    },
    "tags": []
   },
   "outputs": [
    {
     "data": {
      "text/html": [
       "<div>\n",
       "<style scoped>\n",
       "    .dataframe tbody tr th:only-of-type {\n",
       "        vertical-align: middle;\n",
       "    }\n",
       "\n",
       "    .dataframe tbody tr th {\n",
       "        vertical-align: top;\n",
       "    }\n",
       "\n",
       "    .dataframe thead th {\n",
       "        text-align: right;\n",
       "    }\n",
       "</style>\n",
       "<table border=\"1\" class=\"dataframe\">\n",
       "  <thead>\n",
       "    <tr style=\"text-align: right;\">\n",
       "      <th></th>\n",
       "      <th>GENDER</th>\n",
       "      <th>AGE</th>\n",
       "      <th>SMOKING</th>\n",
       "      <th>YELLOW_FINGERS</th>\n",
       "      <th>ANXIETY</th>\n",
       "      <th>PEER_PRESSURE</th>\n",
       "      <th>CHRONIC DISEASE</th>\n",
       "      <th>FATIGUE</th>\n",
       "      <th>ALLERGY</th>\n",
       "      <th>WHEEZING</th>\n",
       "      <th>ALCOHOL CONSUMING</th>\n",
       "      <th>COUGHING</th>\n",
       "      <th>SHORTNESS OF BREATH</th>\n",
       "      <th>SWALLOWING DIFFICULTY</th>\n",
       "      <th>CHEST PAIN</th>\n",
       "      <th>LUNG_CANCER</th>\n",
       "    </tr>\n",
       "  </thead>\n",
       "  <tbody>\n",
       "    <tr>\n",
       "      <th>0</th>\n",
       "      <td>1</td>\n",
       "      <td>0.727273</td>\n",
       "      <td>0</td>\n",
       "      <td>1</td>\n",
       "      <td>1</td>\n",
       "      <td>0</td>\n",
       "      <td>0</td>\n",
       "      <td>1</td>\n",
       "      <td>0</td>\n",
       "      <td>1</td>\n",
       "      <td>1</td>\n",
       "      <td>1</td>\n",
       "      <td>1</td>\n",
       "      <td>1</td>\n",
       "      <td>1</td>\n",
       "      <td>1</td>\n",
       "    </tr>\n",
       "    <tr>\n",
       "      <th>1</th>\n",
       "      <td>1</td>\n",
       "      <td>0.803030</td>\n",
       "      <td>1</td>\n",
       "      <td>0</td>\n",
       "      <td>0</td>\n",
       "      <td>0</td>\n",
       "      <td>1</td>\n",
       "      <td>1</td>\n",
       "      <td>1</td>\n",
       "      <td>0</td>\n",
       "      <td>0</td>\n",
       "      <td>0</td>\n",
       "      <td>1</td>\n",
       "      <td>1</td>\n",
       "      <td>1</td>\n",
       "      <td>1</td>\n",
       "    </tr>\n",
       "    <tr>\n",
       "      <th>2</th>\n",
       "      <td>0</td>\n",
       "      <td>0.575758</td>\n",
       "      <td>0</td>\n",
       "      <td>0</td>\n",
       "      <td>0</td>\n",
       "      <td>1</td>\n",
       "      <td>0</td>\n",
       "      <td>1</td>\n",
       "      <td>0</td>\n",
       "      <td>1</td>\n",
       "      <td>0</td>\n",
       "      <td>1</td>\n",
       "      <td>1</td>\n",
       "      <td>0</td>\n",
       "      <td>1</td>\n",
       "      <td>0</td>\n",
       "    </tr>\n",
       "    <tr>\n",
       "      <th>3</th>\n",
       "      <td>1</td>\n",
       "      <td>0.636364</td>\n",
       "      <td>1</td>\n",
       "      <td>1</td>\n",
       "      <td>1</td>\n",
       "      <td>0</td>\n",
       "      <td>0</td>\n",
       "      <td>0</td>\n",
       "      <td>0</td>\n",
       "      <td>0</td>\n",
       "      <td>1</td>\n",
       "      <td>0</td>\n",
       "      <td>0</td>\n",
       "      <td>1</td>\n",
       "      <td>1</td>\n",
       "      <td>0</td>\n",
       "    </tr>\n",
       "    <tr>\n",
       "      <th>4</th>\n",
       "      <td>0</td>\n",
       "      <td>0.636364</td>\n",
       "      <td>0</td>\n",
       "      <td>1</td>\n",
       "      <td>0</td>\n",
       "      <td>0</td>\n",
       "      <td>0</td>\n",
       "      <td>0</td>\n",
       "      <td>0</td>\n",
       "      <td>1</td>\n",
       "      <td>0</td>\n",
       "      <td>1</td>\n",
       "      <td>1</td>\n",
       "      <td>0</td>\n",
       "      <td>0</td>\n",
       "      <td>0</td>\n",
       "    </tr>\n",
       "  </tbody>\n",
       "</table>\n",
       "</div>"
      ],
      "text/plain": [
       "   GENDER       AGE  SMOKING  YELLOW_FINGERS  ANXIETY  PEER_PRESSURE  \\\n",
       "0       1  0.727273        0               1        1              0   \n",
       "1       1  0.803030        1               0        0              0   \n",
       "2       0  0.575758        0               0        0              1   \n",
       "3       1  0.636364        1               1        1              0   \n",
       "4       0  0.636364        0               1        0              0   \n",
       "\n",
       "   CHRONIC DISEASE  FATIGUE   ALLERGY   WHEEZING  ALCOHOL CONSUMING  COUGHING  \\\n",
       "0                0         1         0         1                  1         1   \n",
       "1                1         1         1         0                  0         0   \n",
       "2                0         1         0         1                  0         1   \n",
       "3                0         0         0         0                  1         0   \n",
       "4                0         0         0         1                  0         1   \n",
       "\n",
       "   SHORTNESS OF BREATH  SWALLOWING DIFFICULTY  CHEST PAIN  LUNG_CANCER  \n",
       "0                    1                      1           1            1  \n",
       "1                    1                      1           1            1  \n",
       "2                    1                      0           1            0  \n",
       "3                    0                      1           1            0  \n",
       "4                    1                      0           0            0  "
      ]
     },
     "execution_count": 13,
     "metadata": {},
     "output_type": "execute_result"
    }
   ],
   "source": [
    "df.head()"
   ]
  },
  {
   "cell_type": "code",
   "execution_count": 14,
   "id": "2c1baf60",
   "metadata": {
    "execution": {
     "iopub.execute_input": "2022-06-18T19:19:02.041173Z",
     "iopub.status.busy": "2022-06-18T19:19:02.040228Z",
     "iopub.status.idle": "2022-06-18T19:19:02.046695Z",
     "shell.execute_reply": "2022-06-18T19:19:02.045777Z"
    },
    "papermill": {
     "duration": 0.018769,
     "end_time": "2022-06-18T19:19:02.048633",
     "exception": false,
     "start_time": "2022-06-18T19:19:02.029864",
     "status": "completed"
    },
    "tags": []
   },
   "outputs": [
    {
     "data": {
      "text/plain": [
       "(309, 16)"
      ]
     },
     "execution_count": 14,
     "metadata": {},
     "output_type": "execute_result"
    }
   ],
   "source": [
    "df.shape"
   ]
  },
  {
   "cell_type": "code",
   "execution_count": 15,
   "id": "26db66b1",
   "metadata": {
    "execution": {
     "iopub.execute_input": "2022-06-18T19:19:02.068863Z",
     "iopub.status.busy": "2022-06-18T19:19:02.068142Z",
     "iopub.status.idle": "2022-06-18T19:19:02.078854Z",
     "shell.execute_reply": "2022-06-18T19:19:02.078100Z"
    },
    "papermill": {
     "duration": 0.023321,
     "end_time": "2022-06-18T19:19:02.080997",
     "exception": false,
     "start_time": "2022-06-18T19:19:02.057676",
     "status": "completed"
    },
    "tags": []
   },
   "outputs": [],
   "source": [
    "df=df.drop_duplicates()"
   ]
  },
  {
   "cell_type": "code",
   "execution_count": 16,
   "id": "55eceab1",
   "metadata": {
    "execution": {
     "iopub.execute_input": "2022-06-18T19:19:02.101552Z",
     "iopub.status.busy": "2022-06-18T19:19:02.100910Z",
     "iopub.status.idle": "2022-06-18T19:19:02.105964Z",
     "shell.execute_reply": "2022-06-18T19:19:02.105286Z"
    },
    "papermill": {
     "duration": 0.017651,
     "end_time": "2022-06-18T19:19:02.107828",
     "exception": false,
     "start_time": "2022-06-18T19:19:02.090177",
     "status": "completed"
    },
    "tags": []
   },
   "outputs": [
    {
     "data": {
      "text/plain": [
       "(276, 16)"
      ]
     },
     "execution_count": 16,
     "metadata": {},
     "output_type": "execute_result"
    }
   ],
   "source": [
    "df.shape"
   ]
  },
  {
   "cell_type": "code",
   "execution_count": 17,
   "id": "9d64b46a",
   "metadata": {
    "execution": {
     "iopub.execute_input": "2022-06-18T19:19:02.129028Z",
     "iopub.status.busy": "2022-06-18T19:19:02.128298Z",
     "iopub.status.idle": "2022-06-18T19:19:02.134035Z",
     "shell.execute_reply": "2022-06-18T19:19:02.133256Z"
    },
    "papermill": {
     "duration": 0.018869,
     "end_time": "2022-06-18T19:19:02.136077",
     "exception": false,
     "start_time": "2022-06-18T19:19:02.117208",
     "status": "completed"
    },
    "tags": []
   },
   "outputs": [],
   "source": [
    "X=df.iloc[:,:-1]\n",
    "y=df.iloc[:,-1]"
   ]
  },
  {
   "cell_type": "code",
   "execution_count": 18,
   "id": "bdd1f504",
   "metadata": {
    "execution": {
     "iopub.execute_input": "2022-06-18T19:19:02.157132Z",
     "iopub.status.busy": "2022-06-18T19:19:02.156360Z",
     "iopub.status.idle": "2022-06-18T19:19:02.226425Z",
     "shell.execute_reply": "2022-06-18T19:19:02.225360Z"
    },
    "papermill": {
     "duration": 0.083218,
     "end_time": "2022-06-18T19:19:02.228832",
     "exception": false,
     "start_time": "2022-06-18T19:19:02.145614",
     "status": "completed"
    },
    "tags": []
   },
   "outputs": [],
   "source": [
    "from sklearn.model_selection import train_test_split\n",
    "X_train, X_test, y_train, y_test = train_test_split(X, y, test_size=0.20, random_state=42)"
   ]
  },
  {
   "cell_type": "markdown",
   "id": "d7f4e504",
   "metadata": {
    "papermill": {
     "duration": 0.009195,
     "end_time": "2022-06-18T19:19:02.247315",
     "exception": false,
     "start_time": "2022-06-18T19:19:02.238120",
     "status": "completed"
    },
    "tags": []
   },
   "source": [
    "# Classifiers"
   ]
  },
  {
   "cell_type": "code",
   "execution_count": 19,
   "id": "25e10f80",
   "metadata": {
    "execution": {
     "iopub.execute_input": "2022-06-18T19:19:02.267830Z",
     "iopub.status.busy": "2022-06-18T19:19:02.267171Z",
     "iopub.status.idle": "2022-06-18T19:19:02.432065Z",
     "shell.execute_reply": "2022-06-18T19:19:02.430949Z"
    },
    "papermill": {
     "duration": 0.177689,
     "end_time": "2022-06-18T19:19:02.434367",
     "exception": false,
     "start_time": "2022-06-18T19:19:02.256678",
     "status": "completed"
    },
    "tags": []
   },
   "outputs": [],
   "source": [
    "from sklearn.tree import DecisionTreeClassifier\n",
    "clf_dt = DecisionTreeClassifier(random_state=0)"
   ]
  },
  {
   "cell_type": "code",
   "execution_count": 20,
   "id": "8db261c4",
   "metadata": {
    "execution": {
     "iopub.execute_input": "2022-06-18T19:19:02.455301Z",
     "iopub.status.busy": "2022-06-18T19:19:02.454704Z",
     "iopub.status.idle": "2022-06-18T19:19:02.492905Z",
     "shell.execute_reply": "2022-06-18T19:19:02.492125Z"
    },
    "papermill": {
     "duration": 0.051486,
     "end_time": "2022-06-18T19:19:02.495161",
     "exception": false,
     "start_time": "2022-06-18T19:19:02.443675",
     "status": "completed"
    },
    "tags": []
   },
   "outputs": [],
   "source": [
    "from sklearn.model_selection import cross_val_score\n",
    "acc=cross_val_score(clf_dt, X,y , cv=5)"
   ]
  },
  {
   "cell_type": "code",
   "execution_count": 21,
   "id": "7fd616f8",
   "metadata": {
    "execution": {
     "iopub.execute_input": "2022-06-18T19:19:02.516086Z",
     "iopub.status.busy": "2022-06-18T19:19:02.515506Z",
     "iopub.status.idle": "2022-06-18T19:19:02.521615Z",
     "shell.execute_reply": "2022-06-18T19:19:02.520564Z"
    },
    "papermill": {
     "duration": 0.019006,
     "end_time": "2022-06-18T19:19:02.523531",
     "exception": false,
     "start_time": "2022-06-18T19:19:02.504525",
     "status": "completed"
    },
    "tags": []
   },
   "outputs": [
    {
     "data": {
      "text/plain": [
       "85.50000000000001"
      ]
     },
     "execution_count": 21,
     "metadata": {},
     "output_type": "execute_result"
    }
   ],
   "source": [
    "acc.mean()*100  #Total Model Accuracy"
   ]
  },
  {
   "cell_type": "code",
   "execution_count": 22,
   "id": "fd6b6ce2",
   "metadata": {
    "execution": {
     "iopub.execute_input": "2022-06-18T19:19:02.544297Z",
     "iopub.status.busy": "2022-06-18T19:19:02.543614Z",
     "iopub.status.idle": "2022-06-18T19:19:02.584704Z",
     "shell.execute_reply": "2022-06-18T19:19:02.583975Z"
    },
    "papermill": {
     "duration": 0.053705,
     "end_time": "2022-06-18T19:19:02.586649",
     "exception": false,
     "start_time": "2022-06-18T19:19:02.532944",
     "status": "completed"
    },
    "tags": []
   },
   "outputs": [
    {
     "data": {
      "text/plain": [
       "92.39610389610388"
      ]
     },
     "execution_count": 22,
     "metadata": {},
     "output_type": "execute_result"
    }
   ],
   "source": [
    "from sklearn import svm\n",
    "\n",
    "clf_svm = svm.SVC(kernel='linear', C=1, random_state=42)\n",
    "scores = cross_val_score(clf_svm, X, y, cv=5)\n",
    "scores.mean()*100"
   ]
  },
  {
   "cell_type": "code",
   "execution_count": null,
   "id": "daf0ec19",
   "metadata": {
    "papermill": {
     "duration": 0.009413,
     "end_time": "2022-06-18T19:19:02.605674",
     "exception": false,
     "start_time": "2022-06-18T19:19:02.596261",
     "status": "completed"
    },
    "tags": []
   },
   "outputs": [],
   "source": []
  }
 ],
 "metadata": {
  "kernelspec": {
   "display_name": "Python 3",
   "language": "python",
   "name": "python3"
  },
  "language_info": {
   "codemirror_mode": {
    "name": "ipython",
    "version": 3
   },
   "file_extension": ".py",
   "mimetype": "text/x-python",
   "name": "python",
   "nbconvert_exporter": "python",
   "pygments_lexer": "ipython3",
   "version": "3.7.12"
  },
  "papermill": {
   "default_parameters": {},
   "duration": 12.977422,
   "end_time": "2022-06-18T19:19:03.336377",
   "environment_variables": {},
   "exception": null,
   "input_path": "__notebook__.ipynb",
   "output_path": "__notebook__.ipynb",
   "parameters": {},
   "start_time": "2022-06-18T19:18:50.358955",
   "version": "2.3.4"
  }
 },
 "nbformat": 4,
 "nbformat_minor": 5
}
